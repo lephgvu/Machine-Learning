{
 "cells": [
  {
   "cell_type": "markdown",
   "id": "8283340b",
   "metadata": {},
   "source": [
    "# Khoảng cách từ một điểm tới từng điểm trong một tập hợp"
   ]
  },
  {
   "cell_type": "code",
   "execution_count": 1,
   "id": "17c4b3b4",
   "metadata": {},
   "outputs": [],
   "source": [
    "from __future__ import print_function\n",
    "import numpy as np\n",
    "from time import time # for comparing running time\n",
    "d, N = 1000, 10000 # dimesion, number of training points\n",
    "X = np.random.randn(N, d) # N d-dimensional points\n",
    "z = np.random.randn(d)"
   ]
  },
  {
   "cell_type": "code",
   "execution_count": 2,
   "id": "949b8740",
   "metadata": {},
   "outputs": [
    {
     "name": "stdout",
     "output_type": "stream",
     "text": [
      "naive point2set, running time: 0.17722582817077637 s\n",
      "fast point2set, running time: 0.04131436347961426 s\n",
      "Result difference: 2.0064358060299404e-11\n"
     ]
    }
   ],
   "source": [
    "# naively compute square distance between two vectors\n",
    "def dist_pp(z, x):\n",
    "    d = z - x.reshape(z.shape) # force x and z to have the same dims\n",
    "    return np.sum(d*d)\n",
    "\n",
    "# from one point to each point in a set, naive\n",
    "def dist_ps_naive(z, X):\n",
    "    N = X.shape[0]\n",
    "    res = np.zeros((1, N))\n",
    "    for i in range(N):\n",
    "        res[0][i] = dist_pp(z, X[i])\n",
    "    return res\n",
    "\n",
    "# from one point to each point in a set, fast\n",
    "def dist_ps_fast(z, X):\n",
    "    X2 = np.sum(X*X, 1) # square of l2 norm of each ROW of X\n",
    "    z2 = np.sum(z*z) # square of l2 norm of z\n",
    "    return X2 + z2 - 2*X.dot(z) # z2 can be ignored\n",
    "\n",
    "t1 = time()\n",
    "D1 = dist_ps_naive(z, X)\n",
    "print('naive point2set, running time:', time() - t1, 's')\n",
    "\n",
    "t1 = time()\n",
    "D2 = dist_ps_fast(z, X)\n",
    "print('fast point2set, running time:', time() - t1, 's')\n",
    "print('Result difference:', np.linalg.norm(D1 - D2))"
   ]
  },
  {
   "cell_type": "code",
   "execution_count": 5,
   "id": "294544f7",
   "metadata": {},
   "outputs": [
    {
     "name": "stdout",
     "output_type": "stream",
     "text": [
      "half fast set2set running time: 3.6534218788146973 s\n",
      "fast set2set running time: 0.06146693229675293 s\n",
      "Result difference: 1.056282267902143e-10\n"
     ]
    }
   ],
   "source": [
    "M = 100\n",
    "Z = np.random.randn(M, d)\n",
    "\n",
    "# from each point in one set to each point in another set, half fast\n",
    "def dist_ss_0(Z, X):\n",
    "    M = Z.shape[0]\n",
    "    N = X.shape[0]\n",
    "    res = np.zeros((M, N))\n",
    "    for i in range(M):\n",
    "        res[i] = dist_ps_fast(Z[i], X)\n",
    "    return res\n",
    "\n",
    "# from each point in one set to each point in another set, fast\n",
    "def dist_ss_fast(Z, X):\n",
    "    X2 = np.sum(X*X, 1) # square of l2 norm of each ROW of X\n",
    "    Z2 = np.sum(Z*Z, 1) # square of l2 norm of each ROW of Z\n",
    "    return Z2.reshape(-1, 1) + X2.reshape(1,-1)- 2*Z.dot(X.T)\n",
    "\n",
    "t1 = time()\n",
    "D3 = dist_ss_0(Z, X)\n",
    "print('half fast set2set running time:', time() - t1, 's')\n",
    "\n",
    "t1 = time()\n",
    "D4 = dist_ss_fast(Z, X)\n",
    "print('fast set2set running time:', time() - t1, 's')\n",
    "print('Result difference:', np.linalg.norm(D3 - D4))"
   ]
  },
  {
   "cell_type": "code",
   "execution_count": null,
   "id": "94c03546",
   "metadata": {},
   "outputs": [],
   "source": []
  }
 ],
 "metadata": {
  "kernelspec": {
   "display_name": "Python 3",
   "language": "python",
   "name": "python3"
  },
  "language_info": {
   "codemirror_mode": {
    "name": "ipython",
    "version": 3
   },
   "file_extension": ".py",
   "mimetype": "text/x-python",
   "name": "python",
   "nbconvert_exporter": "python",
   "pygments_lexer": "ipython3",
   "version": "3.13.1"
  }
 },
 "nbformat": 4,
 "nbformat_minor": 5
}
